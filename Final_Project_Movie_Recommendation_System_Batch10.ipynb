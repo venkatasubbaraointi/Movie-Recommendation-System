{
  "nbformat": 4,
  "nbformat_minor": 0,
  "metadata": {
    "colab": {
      "name": "Movie_Recommendation_System_Batch10.ipynb",
      "provenance": [],
      "collapsed_sections": []
    },
    "kernelspec": {
      "name": "python3",
      "display_name": "Python 3"
    },
    "language_info": {
      "name": "python"
    }
  },
  "cells": [
    {
      "cell_type": "code",
      "execution_count": 1,
      "metadata": {
        "id": "sSeHkxIYRQAN",
        "colab": {
          "base_uri": "https://localhost:8080/"
        },
        "outputId": "79be3045-accf-4bbb-ba7e-07e8cd525875"
      },
      "outputs": [
        {
          "output_type": "stream",
          "name": "stdout",
          "text": [
            "Collecting pyspark==3.0.3\n",
            "  Downloading pyspark-3.0.3.tar.gz (209.1 MB)\n",
            "\u001b[K     |████████████████████████████████| 209.1 MB 63 kB/s \n",
            "\u001b[?25hCollecting py4j==0.10.9\n",
            "  Downloading py4j-0.10.9-py2.py3-none-any.whl (198 kB)\n",
            "\u001b[K     |████████████████████████████████| 198 kB 57.5 MB/s \n",
            "\u001b[?25hBuilding wheels for collected packages: pyspark\n",
            "  Building wheel for pyspark (setup.py) ... \u001b[?25l\u001b[?25hdone\n",
            "  Created wheel for pyspark: filename=pyspark-3.0.3-py2.py3-none-any.whl size=209435970 sha256=8986884817907a550f2e2c8ad4f1309baedd7573685b999bdb1117480e312c85\n",
            "  Stored in directory: /root/.cache/pip/wheels/7e/6d/0a/6b0bf301bc056d9af03194b732b9f49ad2fceb205aab2984fd\n",
            "Successfully built pyspark\n",
            "Installing collected packages: py4j, pyspark\n",
            "Successfully installed py4j-0.10.9 pyspark-3.0.3\n"
          ]
        }
      ],
      "source": [
        "!apt-get install openjdk-8-jdk-headless -qq > /dev/null\n",
        "!wget -q https://downloads.apache.org/spark/spark-3.0.3/spark-3.0.3-bin-hadoop3.2.tgz\n",
        "!tar xf spark-3.0.3-bin-hadoop3.2.tgz\n",
        "!pip install -q findspark\n",
        "!pip install pyspark==3.0.3"
      ]
    },
    {
      "cell_type": "code",
      "source": [
        "import os\n",
        "os.environ[\"JAVA_HOME\"] = \"/usr/lib/jvm/java-8-openjdk-amd64\"\n",
        "os.environ[\"SPARK_HOME\"] = \"/content/spark-3.0.3-bin-hadoop3.2\""
      ],
      "metadata": {
        "id": "z8jEzPXzVgn0"
      },
      "execution_count": 2,
      "outputs": []
    },
    {
      "cell_type": "code",
      "source": [
        "! wget https://files.grouplens.org/datasets/movielens/ml-latest.zip"
      ],
      "metadata": {
        "id": "s2l3zrV4ViZc",
        "colab": {
          "base_uri": "https://localhost:8080/"
        },
        "outputId": "3989f37a-4862-4645-a0be-926854c77b74"
      },
      "execution_count": 3,
      "outputs": [
        {
          "output_type": "stream",
          "name": "stdout",
          "text": [
            "--2021-12-17 22:18:14--  https://files.grouplens.org/datasets/movielens/ml-latest.zip\n",
            "Resolving files.grouplens.org (files.grouplens.org)... 128.101.65.152\n",
            "Connecting to files.grouplens.org (files.grouplens.org)|128.101.65.152|:443... connected.\n",
            "HTTP request sent, awaiting response... 200 OK\n",
            "Length: 277113433 (264M) [application/zip]\n",
            "Saving to: ‘ml-latest.zip’\n",
            "\n",
            "ml-latest.zip       100%[===================>] 264.28M  70.4MB/s    in 4.0s    \n",
            "\n",
            "2021-12-17 22:18:18 (66.0 MB/s) - ‘ml-latest.zip’ saved [277113433/277113433]\n",
            "\n"
          ]
        }
      ]
    },
    {
      "cell_type": "code",
      "source": [
        "!unzip 'ml-latest.zip'"
      ],
      "metadata": {
        "id": "5TbmJWPFWXoQ",
        "colab": {
          "base_uri": "https://localhost:8080/"
        },
        "outputId": "ae3462dc-25ef-48c3-ac75-bbcabe4fee11"
      },
      "execution_count": 4,
      "outputs": [
        {
          "output_type": "stream",
          "name": "stdout",
          "text": [
            "Archive:  ml-latest.zip\n",
            "   creating: ml-latest/\n",
            "  inflating: ml-latest/links.csv     \n",
            "  inflating: ml-latest/tags.csv      \n",
            "  inflating: ml-latest/genome-tags.csv  \n",
            "  inflating: ml-latest/ratings.csv   \n",
            "  inflating: ml-latest/README.txt    \n",
            "  inflating: ml-latest/genome-scores.csv  \n",
            "  inflating: ml-latest/movies.csv    \n"
          ]
        }
      ]
    },
    {
      "cell_type": "code",
      "source": [
        "import findspark\n",
        "findspark.init()\n",
        "from pyspark import SparkContext, SparkConf\n",
        "from pyspark.sql import SQLContext, SparkSession"
      ],
      "metadata": {
        "id": "d_umXlWXXyNk"
      },
      "execution_count": 5,
      "outputs": []
    },
    {
      "cell_type": "code",
      "source": [
        "from pyspark.ml.evaluation import RegressionEvaluator\n",
        "from pyspark.ml.recommendation import ALS\n",
        "from pyspark.sql.functions import udf,col,when,desc\n",
        "\n",
        "import numpy as np\n",
        "from IPython.display import Image\n",
        "from IPython.display import display"
      ],
      "metadata": {
        "id": "QjxyiH35Zq1d"
      },
      "execution_count": 6,
      "outputs": []
    },
    {
      "cell_type": "code",
      "source": [
        "conf = SparkConf().set('spark.ui.port', '4050')\n",
        "sc = SparkContext(conf=conf)\n",
        "spark = SparkSession.builder.master('local[*]').getOrCreate()"
      ],
      "metadata": {
        "id": "9dSYvcwNX0mJ"
      },
      "execution_count": 7,
      "outputs": []
    },
    {
      "cell_type": "code",
      "source": [
        "ratings=spark.read.load('/content/ml-latest/ratings.csv', format='csv', inferSchema=True, header=True)\n",
        "ratings.printSchema()"
      ],
      "metadata": {
        "id": "2_eOR3jsXnQp",
        "colab": {
          "base_uri": "https://localhost:8080/"
        },
        "outputId": "aaac8930-47c5-4e70-b116-e2dea16a64ed"
      },
      "execution_count": 8,
      "outputs": [
        {
          "output_type": "stream",
          "name": "stdout",
          "text": [
            "root\n",
            " |-- userId: integer (nullable = true)\n",
            " |-- movieId: integer (nullable = true)\n",
            " |-- rating: double (nullable = true)\n",
            " |-- timestamp: integer (nullable = true)\n",
            "\n"
          ]
        }
      ]
    },
    {
      "cell_type": "code",
      "source": [
        "movies=spark.read.load('/content/ml-latest/movies.csv', format='csv', inferSchema=True, header=True)\n",
        "movies.printSchema()"
      ],
      "metadata": {
        "id": "vbsX8A_Kaol1",
        "colab": {
          "base_uri": "https://localhost:8080/"
        },
        "outputId": "ecdae70b-afaf-4110-ed9c-2816cd1ca56a"
      },
      "execution_count": 9,
      "outputs": [
        {
          "output_type": "stream",
          "name": "stdout",
          "text": [
            "root\n",
            " |-- movieId: integer (nullable = true)\n",
            " |-- title: string (nullable = true)\n",
            " |-- genres: string (nullable = true)\n",
            "\n"
          ]
        }
      ]
    },
    {
      "cell_type": "code",
      "source": [
        "tags=spark.read.load('/content/ml-latest/tags.csv', format='csv', inferSchema=True, header=True)\n",
        "tags.printSchema()"
      ],
      "metadata": {
        "id": "TewPSZTiap_W",
        "colab": {
          "base_uri": "https://localhost:8080/"
        },
        "outputId": "c651c3ae-8009-40cb-a409-f1f4c378a3ff"
      },
      "execution_count": 10,
      "outputs": [
        {
          "output_type": "stream",
          "name": "stdout",
          "text": [
            "root\n",
            " |-- userId: integer (nullable = true)\n",
            " |-- movieId: integer (nullable = true)\n",
            " |-- tag: string (nullable = true)\n",
            " |-- timestamp: string (nullable = true)\n",
            "\n"
          ]
        }
      ]
    },
    {
      "cell_type": "code",
      "source": [
        "links=spark.read.load('/content/ml-latest/links.csv', format='csv', inferSchema=True, header=True)\n",
        "links.printSchema()"
      ],
      "metadata": {
        "id": "mvpPlqabasBn",
        "colab": {
          "base_uri": "https://localhost:8080/"
        },
        "outputId": "ddbe34e5-4904-4100-f2a5-701b28979da6"
      },
      "execution_count": 11,
      "outputs": [
        {
          "output_type": "stream",
          "name": "stdout",
          "text": [
            "root\n",
            " |-- movieId: integer (nullable = true)\n",
            " |-- imdbId: integer (nullable = true)\n",
            " |-- tmdbId: integer (nullable = true)\n",
            "\n"
          ]
        }
      ]
    },
    {
      "cell_type": "code",
      "source": [
        "training_set,testing_set=ratings.randomSplit([0.8,0.2])\n",
        "training_set.count()"
      ],
      "metadata": {
        "colab": {
          "base_uri": "https://localhost:8080/"
        },
        "id": "0TJnE5WjataG",
        "outputId": "1f51e85d-a7c1-47a1-d4c9-b5a7e0ba48e6"
      },
      "execution_count": 12,
      "outputs": [
        {
          "output_type": "execute_result",
          "data": {
            "text/plain": [
              "22200250"
            ]
          },
          "metadata": {},
          "execution_count": 12
        }
      ]
    },
    {
      "cell_type": "code",
      "source": [
        "als=ALS(maxIter=10,regParam=0.1,rank=4,userCol=\"userId\",itemCol=\"movieId\",ratingCol=\"rating\")\n",
        "model=als.fit(training_set)\n",
        "predictions=model.transform(testing_set)\n",
        "new_predictions=predictions.filter(col('prediction')!=np.nan)\n",
        "evaluator=RegressionEvaluator(metricName=\"rmse\",labelCol=\"rating\",predictionCol=\"prediction\")\n",
        "rmse=evaluator.evaluate(new_predictions)\n",
        "print(\"root mean square error\"+ str(rmse))"
      ],
      "metadata": {
        "colab": {
          "base_uri": "https://localhost:8080/"
        },
        "id": "UsttllMDg-F8",
        "outputId": "7aa5a864-9069-4916-8aad-736e13077cfa"
      },
      "execution_count": 13,
      "outputs": [
        {
          "output_type": "stream",
          "name": "stdout",
          "text": [
            "root mean square error0.8303111700954836\n"
          ]
        }
      ]
    },
    {
      "cell_type": "code",
      "source": [
        "predictions.show(10)"
      ],
      "metadata": {
        "id": "PcYSAm-4hlJ1",
        "colab": {
          "base_uri": "https://localhost:8080/"
        },
        "outputId": "5e221ef8-fc71-4930-b040-643fa7de905c"
      },
      "execution_count": 14,
      "outputs": [
        {
          "output_type": "stream",
          "name": "stdout",
          "text": [
            "+------+-------+------+----------+----------+\n",
            "|userId|movieId|rating| timestamp|prediction|\n",
            "+------+-------+------+----------+----------+\n",
            "|106148|    148|   2.5|1207008368| 2.8924303|\n",
            "|234926|    148|   4.0| 836315177| 2.9414966|\n",
            "| 50155|    148|   3.0| 956789580| 2.9227197|\n",
            "|207939|    148|   3.0| 970170090| 2.7589483|\n",
            "| 60382|    148|   4.0| 830077276| 3.5675318|\n",
            "| 51571|    148|   3.0| 976588402| 3.0586288|\n",
            "|211963|    148|   3.0| 903702432| 2.2720916|\n",
            "|224445|    148|   3.0| 866125989| 2.8216264|\n",
            "|149383|    148|   3.0| 837033792|  2.715311|\n",
            "| 73492|    148|   0.5|1234676991|  2.432334|\n",
            "+------+-------+------+----------+----------+\n",
            "only showing top 10 rows\n",
            "\n"
          ]
        }
      ]
    },
    {
      "cell_type": "code",
      "source": [
        "predictions.join(movies,\"movieId\").select(\"userId\",\"title\",\"genres\",\"prediction\").show(5)"
      ],
      "metadata": {
        "colab": {
          "base_uri": "https://localhost:8080/"
        },
        "id": "yzcjk-I5ilJ1",
        "outputId": "85bfa5a1-4811-48f4-aa32-a0b9716de483"
      },
      "execution_count": 15,
      "outputs": [
        {
          "output_type": "stream",
          "name": "stdout",
          "text": [
            "+------+--------------------+------+----------+\n",
            "|userId|               title|genres|prediction|\n",
            "+------+--------------------+------+----------+\n",
            "|106148|Awfully Big Adven...| Drama| 2.8924303|\n",
            "|234926|Awfully Big Adven...| Drama| 2.9414966|\n",
            "| 50155|Awfully Big Adven...| Drama| 2.9227197|\n",
            "|207939|Awfully Big Adven...| Drama| 2.7589483|\n",
            "| 60382|Awfully Big Adven...| Drama| 3.5675318|\n",
            "+------+--------------------+------+----------+\n",
            "only showing top 5 rows\n",
            "\n"
          ]
        }
      ]
    },
    {
      "cell_type": "code",
      "source": [
        "##Recommending movies for each particular user\n",
        "particular_user=predictions.filter(col(\"userId\")==599).join(movies,\"movieID\").join(links,\"movieId\").select(\"userId\",\"title\",\"genres\",\"tmdbId\",\"prediction\")\n",
        "particular_user=particular_user.sort(desc(\"prediction\"))\n",
        "particular_user.show(10)"
      ],
      "metadata": {
        "colab": {
          "base_uri": "https://localhost:8080/"
        },
        "id": "rOAraClApT_h",
        "outputId": "e9a19686-ac47-4789-aaea-9b2fbff58706"
      },
      "execution_count": 16,
      "outputs": [
        {
          "output_type": "stream",
          "name": "stdout",
          "text": [
            "+------+--------------------+--------------------+------+----------+\n",
            "|userId|               title|              genres|tmdbId|prediction|\n",
            "+------+--------------------+--------------------+------+----------+\n",
            "|   599|Reservoir Dogs (1...|Crime|Mystery|Thr...|   500|  3.721089|\n",
            "|   599|Laputa: Castle in...|Action|Adventure|...| 10515|  3.639781|\n",
            "|   599|Saving Private Ry...|    Action|Drama|War|   857|  3.623132|\n",
            "|   599|Good Will Hunting...|       Drama|Romance|   489| 3.5453663|\n",
            "|   599|Dark Knight, The ...|Action|Crime|Dram...|   155| 3.5018146|\n",
            "|   599|           Up (2009)|Adventure|Animati...| 14160| 3.4659812|\n",
            "|   599|Django Unchained ...|Action|Drama|Western| 68718|   3.37715|\n",
            "|   599|Bourne Ultimatum,...|Action|Crime|Thri...|  2503|  3.229712|\n",
            "|   599|Dark Crystal, The...|   Adventure|Fantasy| 11639| 3.1304994|\n",
            "|   599|     Iron Man (2008)|Action|Adventure|...|  1726|  2.965444|\n",
            "+------+--------------------+--------------------+------+----------+\n",
            "only showing top 10 rows\n",
            "\n"
          ]
        }
      ]
    },
    {
      "cell_type": "code",
      "source": [
        "##Generating top 5 recommendations for each user\n",
        "\n",
        "user_recommendations=model.recommendForAllUsers(5)\n",
        "\n",
        "#Generating top 5 user recommendations for each movie\n",
        "\n",
        "movie_recommendations=model.recommendForAllItems(5)"
      ],
      "metadata": {
        "id": "akat-2BAqkXk"
      },
      "execution_count": 17,
      "outputs": []
    },
    {
      "cell_type": "code",
      "source": [
        "user_recommendations.select(\"userId\",\"recommendations.movieId\").show(10,False)"
      ],
      "metadata": {
        "colab": {
          "base_uri": "https://localhost:8080/"
        },
        "id": "5KGtVojVre0U",
        "outputId": "e74b3bfc-e500-480f-c3a1-0a8d2e61452d"
      },
      "execution_count": 18,
      "outputs": [
        {
          "output_type": "stream",
          "name": "stdout",
          "text": [
            "+------+----------------------------------------+\n",
            "|userId|movieId                                 |\n",
            "+------+----------------------------------------+\n",
            "|148   |[171579, 151989, 137040, 185211, 177007]|\n",
            "|463   |[171579, 151989, 137040, 122222, 177007]|\n",
            "|471   |[151989, 177209, 171579, 107434, 157791]|\n",
            "|496   |[151989, 171579, 177209, 142891, 107434]|\n",
            "|833   |[171579, 171851, 158306, 176363, 179063]|\n",
            "|1088  |[171579, 151989, 177209, 179063, 158306]|\n",
            "|1238  |[171579, 151989, 177007, 137040, 185211]|\n",
            "|1342  |[185645, 146240, 193759, 185647, 176517]|\n",
            "|1580  |[151989, 185659, 185645, 177209, 185647]|\n",
            "|1591  |[171579, 177209, 151989, 176597, 159761]|\n",
            "+------+----------------------------------------+\n",
            "only showing top 10 rows\n",
            "\n"
          ]
        }
      ]
    },
    {
      "cell_type": "code",
      "source": [
        "movie_recommendations.select(\"movieId\",\"recommendations.userId\").show(10,False)"
      ],
      "metadata": {
        "colab": {
          "base_uri": "https://localhost:8080/"
        },
        "id": "qR9ybw7Ir1aC",
        "outputId": "b8fc5984-bfa1-4f7b-e813-b78f1a3400ce"
      },
      "execution_count": 19,
      "outputs": [
        {
          "output_type": "stream",
          "name": "stdout",
          "text": [
            "+-------+---------------------------------------+\n",
            "|movieId|userId                                 |\n",
            "+-------+---------------------------------------+\n",
            "|148    |[139119, 216815, 229364, 86766, 252626]|\n",
            "|463    |[261317, 29446, 124751, 126803, 63517] |\n",
            "|471    |[239966, 7507, 49889, 198702, 29446]   |\n",
            "|496    |[139119, 229364, 86766, 216815, 148311]|\n",
            "|833    |[261317, 268794, 192403, 140712, 10538]|\n",
            "|1088   |[63210, 6743, 19387, 124751, 97354]    |\n",
            "|1238   |[63210, 259178, 139119, 86766, 6743]   |\n",
            "|1342   |[261317, 11053, 268794, 29446, 2573]   |\n",
            "|1580   |[29446, 239966, 7507, 261317, 6743]    |\n",
            "|1591   |[261317, 268794, 2573, 11053, 140712]  |\n",
            "+-------+---------------------------------------+\n",
            "only showing top 10 rows\n",
            "\n"
          ]
        }
      ]
    },
    {
      "cell_type": "code",
      "source": [
        "#User recommendations for a group of user subset\n",
        "users=ratings.select(\"userId\").distinct().limit(5)\n",
        "users.show()"
      ],
      "metadata": {
        "id": "NS2sijvwsHg8",
        "colab": {
          "base_uri": "https://localhost:8080/"
        },
        "outputId": "cf786634-6257-4c34-ef5b-0bf6548d368e"
      },
      "execution_count": 20,
      "outputs": [
        {
          "output_type": "stream",
          "name": "stdout",
          "text": [
            "+------+\n",
            "|userId|\n",
            "+------+\n",
            "|   148|\n",
            "|   463|\n",
            "|   471|\n",
            "|   496|\n",
            "|   833|\n",
            "+------+\n",
            "\n"
          ]
        }
      ]
    },
    {
      "cell_type": "code",
      "source": [
        "user_subset_recommendations=model.recommendForUserSubset(users,10)"
      ],
      "metadata": {
        "id": "lJo3GvkGsabW"
      },
      "execution_count": 21,
      "outputs": []
    },
    {
      "cell_type": "code",
      "source": [
        "user_subset_recommendations.show()"
      ],
      "metadata": {
        "id": "9mJjVPDutDqs",
        "colab": {
          "base_uri": "https://localhost:8080/"
        },
        "outputId": "b91b96a6-191e-4712-dfa3-eacf0fdf9b1a"
      },
      "execution_count": 22,
      "outputs": [
        {
          "output_type": "stream",
          "name": "stdout",
          "text": [
            "+------+--------------------+\n",
            "|userId|     recommendations|\n",
            "+------+--------------------+\n",
            "|   471|[[151989, 5.84636...|\n",
            "|   463|[[171579, 4.27298...|\n",
            "|   833|[[171579, 6.37006...|\n",
            "|   496|[[151989, 6.88873...|\n",
            "|   148|[[171579, 6.61254...|\n",
            "+------+--------------------+\n",
            "\n"
          ]
        }
      ]
    },
    {
      "cell_type": "code",
      "source": [
        "user_subset_recommendations.select(\"userId\",\"recommendations.movieId\").show(10,False)"
      ],
      "metadata": {
        "colab": {
          "base_uri": "https://localhost:8080/"
        },
        "id": "RDJkitR0tQ5m",
        "outputId": "66c4ace7-0b21-4479-d7a1-d0015358aea4"
      },
      "execution_count": 23,
      "outputs": [
        {
          "output_type": "stream",
          "name": "stdout",
          "text": [
            "+------+--------------------------------------------------------------------------------+\n",
            "|userId|movieId                                                                         |\n",
            "+------+--------------------------------------------------------------------------------+\n",
            "|471   |[151989, 177209, 171579, 107434, 157789, 157791, 190707, 142891, 159761, 185659]|\n",
            "|463   |[171579, 151989, 137040, 122222, 177007, 185211, 98693, 162436, 142891, 135735] |\n",
            "|833   |[171579, 171851, 158306, 176363, 179063, 182021, 173775, 185659, 177209, 151989]|\n",
            "|496   |[151989, 171579, 177209, 142891, 107434, 137040, 157791, 157789, 192089, 98693] |\n",
            "|148   |[171579, 151989, 137040, 185211, 177007, 185659, 177209, 142891, 122222, 139074]|\n",
            "+------+--------------------------------------------------------------------------------+\n",
            "\n"
          ]
        }
      ]
    },
    {
      "cell_type": "code",
      "source": [
        "movies_subset=ratings.select(\"movieId\").distinct().limit(3)\n",
        "movie_subset_recommendations=model.recommendForItemSubset(movies_subset,10)\n",
        "movie_subset_recommendations.select(\"movieId\",\"recommendations.userId\").show(10,False)"
      ],
      "metadata": {
        "colab": {
          "base_uri": "https://localhost:8080/"
        },
        "id": "chIfEwgmvQzo",
        "outputId": "5ff561b9-01c6-435a-9c0c-7a9c2e396779"
      },
      "execution_count": 24,
      "outputs": [
        {
          "output_type": "stream",
          "name": "stdout",
          "text": [
            "+-------+---------------------------------------------------------------------------+\n",
            "|movieId|userId                                                                     |\n",
            "+-------+---------------------------------------------------------------------------+\n",
            "|471    |[7507, 239966, 49889, 198702, 29446, 11053, 215098, 72477, 264439, 59810]  |\n",
            "|1591   |[261317, 268794, 2573, 11053, 140712, 29446, 10538, 142610, 126803, 167837]|\n",
            "|1645   |[261317, 29446, 11053, 239966, 7507, 59810, 51588, 2573, 268794, 88274]    |\n",
            "+-------+---------------------------------------------------------------------------+\n",
            "\n"
          ]
        }
      ]
    },
    {
      "cell_type": "code",
      "source": [
        "###Illustrating some spark sql queries for visualization\n",
        "#finding how many movies that each user voted\n",
        "from pyspark.sql import functions as F\n",
        "\n",
        "new_movie_dataset=ratings.join(movies,\"movieId\").select(\"userId\",\"movieId\",\"title\",\"genres\",\"rating\")\n",
        "new_movie_dataset1=new_movie_dataset.groupBy('userId').agg(F.count('movieId').alias('total_movie_votes'))\n",
        "new_movie_dataset1.sort(desc('total_movie_votes')).show()"
      ],
      "metadata": {
        "id": "U5xRcrZnDaar",
        "colab": {
          "base_uri": "https://localhost:8080/"
        },
        "outputId": "32f8ea8f-dc87-4cb6-85a5-fd8e07b246fe"
      },
      "execution_count": 25,
      "outputs": [
        {
          "output_type": "stream",
          "name": "stdout",
          "text": [
            "+------+-----------------+\n",
            "|userId|total_movie_votes|\n",
            "+------+-----------------+\n",
            "|123100|            23715|\n",
            "|117490|             9279|\n",
            "|134596|             8381|\n",
            "|212343|             7884|\n",
            "|242683|             7515|\n",
            "|111908|             6645|\n",
            "| 77609|             6398|\n",
            "| 63783|             6346|\n",
            "|172357|             5868|\n",
            "|141955|             5810|\n",
            "|158002|             5701|\n",
            "|253511|             5356|\n",
            "| 48470|             5257|\n",
            "|183233|             5169|\n",
            "| 94843|             5130|\n",
            "| 73145|             5042|\n",
            "| 37046|             5041|\n",
            "|187986|             4951|\n",
            "|  4796|             4874|\n",
            "|236981|             4854|\n",
            "+------+-----------------+\n",
            "only showing top 20 rows\n",
            "\n"
          ]
        }
      ]
    },
    {
      "cell_type": "markdown",
      "source": [
        "Plotting users and their total number of ratings for movies"
      ],
      "metadata": {
        "id": "nQ63x1Tu39gN"
      }
    },
    {
      "cell_type": "code",
      "source": [
        "import matplotlib.pyplot as plt\n",
        "\n",
        "plot_data=new_movie_dataset1.toPandas()\n",
        "users=plot_data['userId']\n",
        "total_movie_votes=plot_data['total_movie_votes']\n",
        "\n",
        "plt.plot(users,total_movie_votes)\n",
        "plt.xlabel(\"users\")\n",
        "plt.ylabel(\"total_movie_votes\")\n",
        "plt.show()"
      ],
      "metadata": {
        "colab": {
          "base_uri": "https://localhost:8080/",
          "height": 279
        },
        "id": "NvBJiaJg0w4x",
        "outputId": "a646ad7f-9d8b-4d71-d336-7c6c982fcbad"
      },
      "execution_count": 26,
      "outputs": [
        {
          "output_type": "display_data",
          "data": {
            "image/png": "[encoded data removed]",
            "text/plain": [
              "<Figure size 432x288 with 1 Axes>"
            ]
          },
          "metadata": {
            "needs_background": "light"
          }
        }
      ]
    },
    {
      "cell_type": "code",
      "source": [
        "new_movie_dataset2=new_movie_dataset.groupBy('movieId').agg(F.count('userId').alias('total_user_votes'))\n",
        "new_movie_dataset2.show()"
      ],
      "metadata": {
        "id": "N3MYijHOwPWc",
        "colab": {
          "base_uri": "https://localhost:8080/"
        },
        "outputId": "f51c69ba-f975-420a-8cda-cafc0815e009"
      },
      "execution_count": 27,
      "outputs": [
        {
          "output_type": "stream",
          "name": "stdout",
          "text": [
            "+-------+----------------+\n",
            "|movieId|total_user_votes|\n",
            "+-------+----------------+\n",
            "|   1591|            6508|\n",
            "|   1645|           15215|\n",
            "|    471|           12308|\n",
            "|   1088|           14100|\n",
            "|   1580|           44287|\n",
            "|   3997|            2484|\n",
            "|   3175|           16713|\n",
            "|   6620|            4262|\n",
            "|   2122|            2908|\n",
            "|   2142|            2521|\n",
            "|   2866|            1486|\n",
            "|   3918|            1501|\n",
            "|   4519|            2664|\n",
            "|   7982|             928|\n",
            "|   8638|            5134|\n",
            "|  96488|            1330|\n",
            "|  54190|            2551|\n",
            "|    463|             432|\n",
            "|    833|            1562|\n",
            "|   1342|            4049|\n",
            "+-------+----------------+\n",
            "only showing top 20 rows\n",
            "\n"
          ]
        }
      ]
    },
    {
      "cell_type": "code",
      "source": [
        "import matplotlib.pyplot as plt\n",
        "\n",
        "plot_data1=new_movie_dataset2.toPandas()\n",
        "movies=plot_data1['movieId']\n",
        "total_user_vote=plot_data1['total_user_votes']\n",
        "\n",
        "plt.plot(movies,total_user_vote,'+')\n",
        "plt.xlabel(\"movies\")\n",
        "plt.ylabel(\"total_user_votes\")\n",
        "plt.show()"
      ],
      "metadata": {
        "colab": {
          "base_uri": "https://localhost:8080/",
          "height": 279
        },
        "id": "-ZCmYrUDD0Z4",
        "outputId": "22d27662-7bf5-4275-afb7-95189ecd8399"
      },
      "execution_count": 28,
      "outputs": [
        {
          "output_type": "display_data",
          "data": {
            "image/png": "[encoded data removed]",
            "text/plain": [
              "<Figure size 432x288 with 1 Axes>"
            ]
          },
          "metadata": {
            "needs_background": "light"
          }
        }
      ]
    },
    {
      "cell_type": "code",
      "source": [
        "\n"
      ],
      "metadata": {
        "id": "q0iITucoBR9c"
      },
      "execution_count": null,
      "outputs": []
    }
  ]
}